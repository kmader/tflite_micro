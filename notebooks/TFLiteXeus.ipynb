{
 "cells": [
  {
   "cell_type": "markdown",
   "metadata": {},
   "source": [
    "# Using TFLite $\\mu$\n",
    "The notebook tries to get tflite for microcontrollers working in a cling environment to make experimentation easier"
   ]
  },
  {
   "cell_type": "code",
   "execution_count": 1,
   "metadata": {},
   "outputs": [],
   "source": [
    "#pragma once\n",
    "#pragma cling add_include_path(\"tensorflow/lite/\")\n",
    "#pragma cling add_include_path(\"tensorflow/lite/c/\")\n",
    "#pragma cling add_include_path(\"tensorflow/lite/core/api\")\n",
    "#pragma cling add_include_path(\"tensorflow/lite/kernels/internal/\")\n",
    "#pragma cling add_include_path(\"tensorflow/lite/experimental/micro/\")\n",
    "#pragma cling add_include_path(\"tensorflow/lite/experimental/micro/kernels/\")\n",
    "#pragma cling add_include_path(\"tensorflow/lite/schema\")\n",
    "// flatbuffers\n",
    "#pragma cling add_include_path(\"tensorflow/lite/experimental/micro/tools/make/downloads/flatbuffers/include\")\n",
    "// gemmlowp\n",
    "#pragma cling add_include_path(\"tensorflow/lite/experimental/micro/tools/make/downloads/gemmlowp\")\n",
    "#pragma cling add_include_path(\".\")"
   ]
  },
  {
   "cell_type": "markdown",
   "metadata": {},
   "source": [
    "## Load Library\n",
    "The library is static and so we need to build against it instead of loading it"
   ]
  },
  {
   "cell_type": "code",
   "execution_count": 2,
   "metadata": {},
   "outputs": [],
   "source": [
    "#pragma once\n",
    "//#pragma cling load(\"tensorflow/lite/experimental/micro/tools/make/gen/linux_x86_64/lib/libtensorflow-microlite.a\")"
   ]
  },
  {
   "cell_type": "code",
   "execution_count": 3,
   "metadata": {},
   "outputs": [],
   "source": [
    "#include \"tensorflow/lite/experimental/micro/examples/micro_speech/audio_provider.h\"\n",
    "#include \"tensorflow/lite/experimental/micro/examples/micro_speech/command_responder.h\"\n",
    "#include \"tensorflow/lite/experimental/micro/examples/micro_speech/feature_provider.h\"\n",
    "#include \"tensorflow/lite/experimental/micro/examples/micro_speech/micro_features/micro_model_settings.h\"\n",
    "#include \"tensorflow/lite/experimental/micro/examples/micro_speech/micro_features/tiny_conv_micro_features_model_data.h\"\n",
    "#include \"tensorflow/lite/experimental/micro/examples/micro_speech/recognize_commands.h\"\n",
    "#include \"tensorflow/lite/experimental/micro/kernels/all_ops_resolver.h\"\n",
    "#include \"tensorflow/lite/experimental/micro/micro_error_reporter.h\"\n",
    "#include \"tensorflow/lite/experimental/micro/micro_interpreter.h\"\n",
    "#include \"tensorflow/lite/schema/schema_generated.h\"\n",
    "#include \"tensorflow/lite/version.h\""
   ]
  },
  {
   "cell_type": "code",
   "execution_count": 4,
   "metadata": {},
   "outputs": [
    {
     "name": "stderr",
     "output_type": "stream",
     "text": [
      "IncrementalExecutor::executeFunction: symbol '_ZTVN6tflite18MicroErrorReporterE' unresolved while linking function '_GLOBAL__sub_I_cling_module_6'!\n",
      "You are probably missing the definition of vtable for tflite::MicroErrorReporter\n",
      "Maybe you need to load the corresponding shared library?\n"
     ]
    }
   ],
   "source": [
    "tflite::MicroErrorReporter micro_error_reporter;\n",
    "tflite::ErrorReporter* error_reporter = &micro_error_reporter;"
   ]
  },
  {
   "cell_type": "code",
   "execution_count": null,
   "metadata": {},
   "outputs": [],
   "source": []
  }
 ],
 "metadata": {
  "kernelspec": {
   "display_name": "C++14",
   "language": "C++14",
   "name": "xeus-cling-cpp14"
  },
  "language_info": {
   "codemirror_mode": "text/x-c++src",
   "file_extension": ".cpp",
   "mimetype": "text/x-c++src",
   "name": "c++",
   "version": "-std=c++14"
  }
 },
 "nbformat": 4,
 "nbformat_minor": 2
}
